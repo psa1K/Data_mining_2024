{
 "cells": [
  {
   "cell_type": "code",
   "execution_count": 1,
   "metadata": {},
   "outputs": [],
   "source": [
    "import cv2\n",
    "import os\n",
    "import random\n",
    "import numpy as np\n",
    "import xml.etree.ElementTree as ET\n",
    "from sklearn.svm import SVC\n",
    "from sklearn.model_selection import train_test_split\n",
    "from sklearn.metrics import accuracy_score\n",
    "\n",
    "random.seed(233)"
   ]
  },
  {
   "cell_type": "code",
   "execution_count": 2,
   "metadata": {},
   "outputs": [],
   "source": [
    "def getTrainData(path):\n",
    "    imgs = []\n",
    "    labels = []\n",
    "    for xmlPath in os.listdir(path + \"Annotation/xml/\"):\n",
    "        tree = ET.parse(path + \"Annotation/xml/\" + xmlPath)\n",
    "        root = tree.getroot()\n",
    "        # 获取图像尺寸\n",
    "        width = int(root.find(\"size\").find(\"width\").text)\n",
    "        height = int(root.find(\"size\").find(\"height\").text)\n",
    "        # 获取图像名\n",
    "        imgPath = root.find(\"filename\").text\n",
    "        # 读取图像\n",
    "        img = cv2.imread(path + \"JPEGImages/\" + imgPath, cv2.IMREAD_GRAYSCALE)\n",
    "        # 获取边界框\n",
    "        targetRects = []\n",
    "        for num, obj in enumerate(root.findall(\"object\")):\n",
    "            # 获取边界框\n",
    "            bndbox = obj.find(\"bndbox\")\n",
    "            xmin = max(0, int(bndbox.find(\"xmin\").text))\n",
    "            ymin = max(0, int(bndbox.find(\"ymin\").text))\n",
    "            xmax = max(0, int(bndbox.find(\"xmax\").text))\n",
    "            ymax = max(0, int(bndbox.find(\"ymax\").text))\n",
    "            targetRects.append((xmin, ymin, xmax, ymax))\n",
    "\n",
    "            # 裁剪图像并调整比例\n",
    "            imgs.append(cv2.resize(img[ymin:ymax, xmin:xmax], (64, 64)))\n",
    "            labels.append(1)\n",
    "\n",
    "        # 生成负例\n",
    "        def hasOverlap(rect1, rect2):\n",
    "            \"\"\"判断两个矩形是否有交集\"\"\"\n",
    "            x1, y1, x2, y2 = rect1\n",
    "            a1, b1, a2, b2 = rect2\n",
    "            return not (x2 <= a1 or x1 >= a2 or y2 <= b1 or y1 >= b2)\n",
    "\n",
    "        num = num + 1\n",
    "        while num:\n",
    "            # 随机生成左上角点坐标\n",
    "            x = random.randint(0, width - 64)\n",
    "            y = random.randint(0, height - 64)\n",
    "            newRect = (x, y, x + 64, y + 64)\n",
    "            if all(not hasOverlap(newRect, targetRect) for targetRect in targetRects):\n",
    "                imgs.append(img[y : y + 64, x : x + 64])\n",
    "                labels.append(0)\n",
    "                num -= 1\n",
    "    return imgs, labels"
   ]
  },
  {
   "cell_type": "code",
   "execution_count": 3,
   "metadata": {},
   "outputs": [],
   "source": [
    "path = \"./train/\"\n",
    "imgs, labels = getTrainData(path)"
   ]
  },
  {
   "cell_type": "code",
   "execution_count": 4,
   "metadata": {},
   "outputs": [],
   "source": [
    "def getHog(imgs):\n",
    "    # 设置 HOG 参数\n",
    "    win_size = (64,64)  # 窗口大小 \n",
    "    block_size = (16, 16)  # 块大小(为单位进行归一化)\n",
    "    block_stride = (8, 8)  # 块步长\n",
    "    cell_size = (8, 8)  # 单元格大小\n",
    "    nbins = 9  # 梯度方向的直方图 bins 数\n",
    "    hog = cv2.HOGDescriptor(\n",
    "        _winSize=win_size,\n",
    "        _blockSize=block_size,\n",
    "        _blockStride=block_stride,\n",
    "        _cellSize=cell_size,\n",
    "        _nbins=nbins,\n",
    "    )\n",
    "    # 计算 HOG 特征\n",
    "    hogFeatures = []\n",
    "    for img in imgs:\n",
    "        hogFeature = hog.compute(img)\n",
    "        hogFeatures.append(hogFeature)\n",
    "    return hogFeatures"
   ]
  },
  {
   "cell_type": "code",
   "execution_count": 5,
   "metadata": {},
   "outputs": [],
   "source": [
    "hogFeatures = getHog(imgs)"
   ]
  },
  {
   "cell_type": "code",
   "execution_count": 6,
   "metadata": {},
   "outputs": [
    {
     "name": "stdout",
     "output_type": "stream",
     "text": [
      "SVM Accuracy: 98.37%\n"
     ]
    }
   ],
   "source": [
    "# 数据集划分为训练集和测试集\n",
    "X_train, X_test, y_train, y_test = train_test_split(\n",
    "    hogFeatures, labels, test_size=0.2, random_state=233\n",
    ")\n",
    "\n",
    "# SVM 分类器\n",
    "svm_classifier = SVC(kernel=\"rbf\")\n",
    "svm_classifier.fit(X_train, y_train)\n",
    "y_pred = svm_classifier.predict(X_test)\n",
    "\n",
    "# 评估模型准确率\n",
    "accuracy = accuracy_score(y_test, y_pred)\n",
    "print(\"SVM Accuracy: {:.2f}%\".format(accuracy * 100))"
   ]
  },
  {
   "cell_type": "code",
   "execution_count": 7,
   "metadata": {},
   "outputs": [],
   "source": [
    "def sliding_window(image, step_size, window_size):\n",
    "    for y in range(0, image.shape[0] - window_size[0], step_size):\n",
    "        for x in range(0, image.shape[1] - window_size[1], step_size):\n",
    "            yield (x, y, image[y : y + window_size[1], x : x + window_size[0]])\n",
    "\n",
    "\n",
    "# 在新图像上检测飞机\n",
    "def detect_aircraft(image_path):\n",
    "    img = cv2.imread(image_path, cv2.IMREAD_GRAYSCALE)\n",
    "    step_size = 16\n",
    "    window_size = (64, 64)\n",
    "    posPoints = []\n",
    "    for x, y, window in sliding_window(img, step_size, window_size):\n",
    "        #if window.shape[0] != window_size[1] or window.shape[1] != window_size[0]:\n",
    "            #continue  # 跳过不符合窗口大小的区域\n",
    "        hog_feature = getHog([window])\n",
    "        prediction = svm_classifier.predict(hog_feature)\n",
    "        # 如果预测结果为飞机（1），则记录坐标\n",
    "        if prediction == 1:\n",
    "            posPoints.append((x, y))\n",
    "            \n",
    "    for x, y in posPoints:\n",
    "        # 绘制矩形框\n",
    "        cv2.rectangle(\n",
    "            img, (x, y), (x + window_size[0], y + window_size[1]), (0, 255, 0), 2\n",
    "        )\n",
    "    # 显示结果\n",
    "    cv2.imshow(\"Detected Aircraft\", img)\n",
    "    cv2.waitKey(0)\n",
    "    cv2.destroyAllWindows()\n",
    "\n",
    "# 示例\n",
    "detect_aircraft(\"./train/JPEGImages/aircraft_4.jpg\")"
   ]
  }
 ],
 "metadata": {
  "kernelspec": {
   "display_name": "base",
   "language": "python",
   "name": "python3"
  },
  "language_info": {
   "codemirror_mode": {
    "name": "ipython",
    "version": 3
   },
   "file_extension": ".py",
   "mimetype": "text/x-python",
   "name": "python",
   "nbconvert_exporter": "python",
   "pygments_lexer": "ipython3",
   "version": "3.11.5"
  }
 },
 "nbformat": 4,
 "nbformat_minor": 2
}
